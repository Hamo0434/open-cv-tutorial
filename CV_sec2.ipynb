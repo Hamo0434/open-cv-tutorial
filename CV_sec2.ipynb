{
 "cells": [
  {
   "cell_type": "code",
   "execution_count": null,
   "id": "07822a6f",
   "metadata": {},
   "outputs": [],
   "source": [
    "pip install opencv-python"
   ]
  },
  {
   "cell_type": "code",
   "execution_count": 2,
   "id": "dc68ebcb",
   "metadata": {},
   "outputs": [],
   "source": [
    "import cv2\n",
    "import matplotlib.pyplot as plt"
   ]
  },
  {
   "cell_type": "code",
   "execution_count": 11,
   "id": "4366fa17",
   "metadata": {},
   "outputs": [
    {
     "data": {
      "text/plain": [
       "'4.6.0'"
      ]
     },
     "execution_count": 11,
     "metadata": {},
     "output_type": "execute_result"
    }
   ],
   "source": [
    "cv2.__version__"
   ]
  },
  {
   "cell_type": "code",
   "execution_count": 3,
   "id": "895ff7b9",
   "metadata": {},
   "outputs": [],
   "source": [
    "img = cv2.imread('4.png')\n",
    "#img"
   ]
  },
  {
   "cell_type": "markdown",
   "id": "559a1c68",
   "metadata": {},
   "source": [
    "<b>1- filename</b> is the first and the compulsory parameter to be passed and it takes a string value representing the path of the image file (or the image name with extension). NOTE: We have to pass the full path of the image file if is not in the working directory.<br>\n",
    "<b>2- flag </b>is the second and the optional parameter to be passed and it usually takes three types of values: cv2.IMREAD_COLOR, cv2.IMREAD_GRAYSCALE, and cv2.IMREAD_UNCHANGED. Actually, this flag defines the mode in which the image should be read. NOTE: By default, the value of this flag parameter is cv2.IMREAD_COLOR or 1.\n",
    "\n",
    "<b>cv2.imread()</b>\n",
    "method loads an image from the specified file. If the image cannot be read (because of missing file, improper permissions, unsupported or invalid format) then this method returns an empty matrix.\n",
    "\n",
    "<b>Syntax: cv2.imread(path, flag)</b>\n",
    "\n",
    "<b>Parameters:</b> path: A string representing the path of the image to be read.\n",
    "flag: It specifies the way in which image should be read. It’s default value is cv2.IMREAD_COLOR\n",
    "\n",
    "<b>Return Value:</b> This method returns an image that is loaded from the specified file.\n",
    "\n",
    "<b>cv2.IMREAD_COLOR: </b>It specifies to load a color image. Any transparency of image will be neglected. It is the default flag. Alternatively, we can pass integer value 1 for this flag.\n",
    "\n",
    "<b>cv2.IMREAD_GRAYSCALE: </b>It specifies to load an image in grayscale mode. Alternatively, we can pass integer value 0 for this flag.\n",
    "<b>cv2.IMREAD_UNCHANGED:</b> It specifies to load an image as such including alpha channel. Alternatively, we can pass integer value -1 for this flag."
   ]
  },
  {
   "cell_type": "code",
   "execution_count": 13,
   "id": "4d980480",
   "metadata": {},
   "outputs": [
    {
     "name": "stdout",
     "output_type": "stream",
     "text": [
      "[[[125 137 226]\n",
      "  [125 137 226]\n",
      "  [133 137 223]\n",
      "  ...\n",
      "  [122 148 230]\n",
      "  [110 130 221]\n",
      "  [ 90  99 200]]\n",
      "\n",
      " [[125 137 226]\n",
      "  [125 137 226]\n",
      "  [133 137 223]\n",
      "  ...\n",
      "  [122 148 230]\n",
      "  [110 130 221]\n",
      "  [ 90  99 200]]\n",
      "\n",
      " [[125 137 226]\n",
      "  [125 137 226]\n",
      "  [133 137 223]\n",
      "  ...\n",
      "  [122 148 230]\n",
      "  [110 130 221]\n",
      "  [ 90  99 200]]\n",
      "\n",
      " ...\n",
      "\n",
      " [[ 60  18  84]\n",
      "  [ 60  18  84]\n",
      "  [ 58  27  92]\n",
      "  ...\n",
      "  [ 84  73 173]\n",
      "  [ 76  68 172]\n",
      "  [ 79  62 177]]\n",
      "\n",
      " [[ 57  22  82]\n",
      "  [ 57  22  82]\n",
      "  [ 62  32  96]\n",
      "  ...\n",
      "  [ 79  70 179]\n",
      "  [ 81  71 181]\n",
      "  [ 81  74 185]]\n",
      "\n",
      " [[ 57  22  82]\n",
      "  [ 57  22  82]\n",
      "  [ 62  32  96]\n",
      "  ...\n",
      "  [ 79  70 179]\n",
      "  [ 81  71 181]\n",
      "  [ 81  74 185]]]\n"
     ]
    }
   ],
   "source": [
    "print(img)"
   ]
  },
  {
   "cell_type": "code",
   "execution_count": 4,
   "id": "53fabbcd",
   "metadata": {},
   "outputs": [
    {
     "data": {
      "text/plain": [
       "-1"
      ]
     },
     "execution_count": 4,
     "metadata": {},
     "output_type": "execute_result"
    }
   ],
   "source": [
    "cv2.imshow(\"1 st image..\", img)\n",
    "cv2.waitKey()"
   ]
  },
  {
   "cell_type": "code",
   "execution_count": 5,
   "id": "5d064555",
   "metadata": {},
   "outputs": [
    {
     "data": {
      "text/plain": [
       "(512, 512, 3)"
      ]
     },
     "execution_count": 5,
     "metadata": {},
     "output_type": "execute_result"
    }
   ],
   "source": [
    "img.shape"
   ]
  },
  {
   "cell_type": "markdown",
   "id": "1c1b6c76",
   "metadata": {},
   "source": [
    "<li><b>Height </b> represents the number of pixel rows in the image or the number of pixels in each column of the image array.\n",
    "<li> <b>Width </b>represents the number of pixel columns in the image or the number of pixels in each row of the image array.\n",
    "<li><b>Number of Channels</b> represents the number of components used to represent each pixel."
   ]
  },
  {
   "cell_type": "code",
   "execution_count": 6,
   "id": "db246695",
   "metadata": {},
   "outputs": [
    {
     "data": {
      "text/plain": [
       "3"
      ]
     },
     "execution_count": 6,
     "metadata": {},
     "output_type": "execute_result"
    }
   ],
   "source": [
    "# height, width, number of channels in image\n",
    "height = img.shape[0]\n",
    "width = img.shape[1]\n",
    "channels = img.shape[2]\n",
    "channels"
   ]
  },
  {
   "cell_type": "code",
   "execution_count": 17,
   "id": "7eb09be5",
   "metadata": {},
   "outputs": [
    {
     "data": {
      "text/plain": [
       "-1"
      ]
     },
     "execution_count": 17,
     "metadata": {},
     "output_type": "execute_result"
    }
   ],
   "source": [
    "cv2.imshow('window 1 our section..', img)\n",
    "cv2.waitKey()\n",
    "#First argument is name of the window that is displayed when image is shown in.\n",
    "#Second argument is the image to be shown in the window."
   ]
  },
  {
   "cell_type": "markdown",
   "id": "f807634a",
   "metadata": {},
   "source": [
    "<h3><font color='red'> OpenCV Python – Save Image</font></h3>\n"
   ]
  },
  {
   "cell_type": "code",
   "execution_count": 7,
   "id": "d7bd9903",
   "metadata": {},
   "outputs": [
    {
     "data": {
      "text/plain": [
       "True"
      ]
     },
     "execution_count": 7,
     "metadata": {},
     "output_type": "execute_result"
    }
   ],
   "source": [
    "# Cropping an image\n",
    "cropped_image = img[80:280, 150:330]\n",
    "cv2.imwrite('newImage.png',cropped_image) ## take care of adding the extension of image\n",
    "# the crooped img will be saved in the same path of current jupyter"
   ]
  },
  {
   "cell_type": "markdown",
   "id": "e24bbbde",
   "metadata": {},
   "source": [
    "where\n",
    "\n",
    "<li><b>First Argument </b>is Path to the destination on file system, where image is ought to be saved.\n",
    "<li><b>Second Argument</b> is ndarray containing image\n",
    "<li><b>Returns</b> True is returned if the image is written to file system, else False."
   ]
  },
  {
   "cell_type": "code",
   "execution_count": 9,
   "id": "cee931bd",
   "metadata": {},
   "outputs": [
    {
     "data": {
      "text/plain": [
       "True"
      ]
     },
     "execution_count": 9,
     "metadata": {},
     "output_type": "execute_result"
    }
   ],
   "source": [
    "cropped_image = img[80:280, 150:330]\n",
    "cv2.imwrite('Desktop/new_Image.png',cropped_image)\n"
   ]
  },
  {
   "cell_type": "code",
   "execution_count": null,
   "id": "6020c18f",
   "metadata": {},
   "outputs": [],
   "source": [
    "# Display cropped image\n",
    "cv2.imshow(\"cropped\", cropped_image)\n",
    "cv2.waitKey()"
   ]
  },
  {
   "cell_type": "markdown",
   "id": "fca09d1b",
   "metadata": {},
   "source": [
    "<b>1.waitKey(0) </b>will display the window infinitely until any keypress (it is suitable for image display).\n",
    "\n",
    "<b>2.waitKey(1)</b> will display a frame for 1 ms, after which display will be automatically closed. Since the OS has a minimum time between switching threads, the function will not wait exactly 1 ms, it will wait at least 1 ms, depending on what else is running on your computer at that time.\n",
    "\n",
    "So, if you use waitKey(0) you see a still image until you actually press something while for waitKey(1) the function will show a frame for at least 1 ms only."
   ]
  },
  {
   "cell_type": "code",
   "execution_count": null,
   "id": "d7d5645e",
   "metadata": {},
   "outputs": [],
   "source": [
    "cv2.destroyAllWindows() # destroys the window showing image"
   ]
  },
  {
   "cell_type": "code",
   "execution_count": null,
   "id": "88cb5ad4",
   "metadata": {},
   "outputs": [],
   "source": [
    "cropped_image.shape"
   ]
  },
  {
   "cell_type": "markdown",
   "id": "859d8bd2",
   "metadata": {},
   "source": [
    "<h3><font color='red'> OpenCV Python – Resize image\n"
   ]
  },
  {
   "cell_type": "markdown",
   "id": "0c80118b",
   "metadata": {},
   "source": [
    "<li><b>src</b>\t[required] source/input image\n",
    "<li><b>dsize</b>\t[required] desired size for the output image\n",
    "<li><b>fx</b>\t[optional] scale factor along the horizontal axis\n",
    "<li><b>fy</b>\t[optional] scale factor along the vertical axis\n",
    "<li><b>interpolation</b>\t[optional] flag that takes one of the following methods. INTER_NEAREST – a nearest-neighbor interpolation INTER_LINEAR – a bilinear interpolation (used by default) INTER_AREA – resampling using pixel area relation. It may be a preferred method for image decimation, as it gives moire’-free results. But when the image is zoomed, it is similar to the INTER_NEAREST method. INTER_CUBIC – a bicubic interpolation over 4×4 pixel neighborhood INTER_LANCZOS4 – a Lanczos interpolation over 8×8 pixel neighborhood"
   ]
  },
  {
   "cell_type": "markdown",
   "id": "c85074d3",
   "metadata": {},
   "source": [
    "Resizing an image can be done in many ways. We will look into examples demonstrating the following resize operations.\n",
    "\n",
    "<li><b> 1- Preserve Aspect Ratio</b> (height to width ratio of image is preserved)\n",
    "        <li><b> >>> 1-1 Downscale</b> (Decrease the size of the image)\n",
    "        <li><b> >>> 1-2 Upscale </b>(Increase the size of the image)\n",
    "<li><b>2- Do not preserve Aspect Ratio</b>\n",
    "        <li><b>2-1 >>> Resize only the width </b>(Increase or decrease the width of the image keeping height unchanged)\n",
    "        <li><b>2-2 >>> Resize only the height </b>(Increase or decrease the height of the image keeping width unchanged)\n",
    "<li><b>3- Resize to specific width and height</b>"
   ]
  },
  {
   "cell_type": "code",
   "execution_count": 1,
   "id": "e9a10360",
   "metadata": {},
   "outputs": [
    {
     "name": "stdout",
     "output_type": "stream",
     "text": [
      "Original Dimensions :  (571, 475, 4)\n",
      "Resized Dimensions :  (342, 285, 4)\n"
     ]
    }
   ],
   "source": [
    "import cv2 \n",
    "img = cv2.imread(r\"C:\\Users\\Elhamd Pc\\Pictures\\Screenshots\\Screenshot 2023-10-10 230514.png\", cv2.IMREAD_UNCHANGED)\n",
    " \n",
    "print('Original Dimensions : ',img.shape)\n",
    " \n",
    "scale_percent = 60 # percent of original size\n",
    "width = int(img.shape[1] * scale_percent / 100)\n",
    "height = int(img.shape[0] * scale_percent / 100)\n",
    "dim = (width, height)\n",
    "  \n",
    "# resize image\n",
    "resized = cv2.resize(img, dim, interpolation = cv2.INTER_AREA)\n",
    " \n",
    "print('Resized Dimensions : ',resized.shape)\n",
    "cv2.imshow(\"Original image\", img)\n",
    " \n",
    "cv2.imshow(\"Resized image\", resized)\n",
    "cv2.waitKey(0)\n",
    "cv2.destroyAllWindows()"
   ]
  },
  {
   "cell_type": "code",
   "execution_count": 3,
   "id": "41d73306",
   "metadata": {},
   "outputs": [],
   "source": [
    "# let's start with the Imports \n",
    "import cv2\n",
    "import numpy as np\n",
    "\n",
    "# Read the image using imread function\n",
    "image = cv2.imread('Desktop/1.png')\n",
    "cv2.imshow('Original Image', image)\n",
    "\n",
    "# let's downscale the image using new  width and height\n",
    "down_width = 300\n",
    "down_height = 200\n",
    "down_points = (down_width, down_height)\n",
    "resized_down = cv2.resize(image, down_points, interpolation= cv2.INTER_LINEAR)\n",
    "\n",
    "# let's upscale the image using new  width and height\n",
    "up_width = 600\n",
    "up_height = 400\n",
    "up_points = (up_width, up_height)\n",
    "resized_up = cv2.resize(image, up_points, interpolation= cv2.INTER_LINEAR)\n",
    "\n",
    "# Display images\n",
    "cv2.imshow('Resized Down by defining height and width', resized_down)\n",
    "cv2.waitKey()\n",
    "cv2.imshow('Resized Up image by defining height and width', resized_up)\n",
    "cv2.waitKey()\n",
    "\n",
    "#press any key to close the windows\n",
    "cv2.destroyAllWindows()"
   ]
  },
  {
   "cell_type": "markdown",
   "id": "16558499",
   "metadata": {},
   "source": [
    "<li>It is important to keep in mind the original aspect ratio of the image (i.e. width by height), if you want to maintain the same in the resized image too.\n",
    "<li>Reducing the size of an image will require resampling of the pixels. \n",
    "<li>Increasing the size of an image requires reconstruction of the image. This means you need to interpolate new pixels."
   ]
  },
  {
   "cell_type": "code",
   "execution_count": null,
   "id": "7be601df",
   "metadata": {},
   "outputs": [],
   "source": []
  }
 ],
 "metadata": {
  "kernelspec": {
   "display_name": "Python 3 (ipykernel)",
   "language": "python",
   "name": "python3"
  },
  "language_info": {
   "codemirror_mode": {
    "name": "ipython",
    "version": 3
   },
   "file_extension": ".py",
   "mimetype": "text/x-python",
   "name": "python",
   "nbconvert_exporter": "python",
   "pygments_lexer": "ipython3",
   "version": "3.9.13"
  }
 },
 "nbformat": 4,
 "nbformat_minor": 5
}
