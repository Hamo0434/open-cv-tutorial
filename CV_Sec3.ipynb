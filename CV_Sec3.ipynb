{
 "cells": [
  {
   "cell_type": "code",
   "execution_count": 2,
   "id": "1671ea7c",
   "metadata": {},
   "outputs": [
    {
     "name": "stdout",
     "output_type": "stream",
     "text": [
      "640.0\n",
      "480.0\n"
     ]
    }
   ],
   "source": [
    "import cv2\n",
    "cap = cv2.VideoCapture(0)\n",
    "\n",
    "print(cap.get(cv2.CAP_PROP_FRAME_WIDTH))\n",
    "print(cap.get(cv2.CAP_PROP_FRAME_HEIGHT))"
   ]
  },
  {
   "cell_type": "code",
   "execution_count": 3,
   "id": "6a4b88ff",
   "metadata": {},
   "outputs": [
    {
     "name": "stdout",
     "output_type": "stream",
     "text": [
      "640.0\n",
      "480.0\n"
     ]
    }
   ],
   "source": [
    "import cv2\n",
    "cap = cv2.VideoCapture(0)\n",
    "print(cap.get(3))  #w\n",
    "print(cap.get(4))  # h\n"
   ]
  },
  {
   "cell_type": "code",
   "execution_count": 1,
   "id": "a6438c15",
   "metadata": {},
   "outputs": [],
   "source": [
    "# import libraries of python OpenCV    \n",
    "import cv2     \n",
    "# import Numpy by alias name np  \n",
    "import numpy as np     \n",
    "# capture frames from a camera   \n",
    "cap = cv2.VideoCapture(0)     \n",
    "# loop runs if capturing has been initialized   \n",
    "while (1):     \n",
    "    # reads frames from a camera   \n",
    "    ret, frame = cap.read()     \n",
    "    # Display an original image   \n",
    "    cv2.imshow('Original', frame)  \n",
    "   \n",
    "    # discovers edges in the input image image and   \n",
    "    # marks them in the output map edges   \n",
    "    edges = cv2.Canny(frame, 100, 200,True)  \n",
    "   \n",
    "    # Display edges in a frame   \n",
    "    cv2.imshow('Edges', edges)  \n",
    "   \n",
    "    if cv2.waitKey(1) == ord('q'):\n",
    "        break\n",
    "   \n",
    "# Close the window   \n",
    "cap.release()  \n",
    "   \n",
    "# De-allocate any associated memory usage   \n",
    "cv2.destroyAllWindows()  "
   ]
  },
  {
   "cell_type": "code",
   "execution_count": null,
   "id": "e9fde3c3",
   "metadata": {},
   "outputs": [],
   "source": [
    "import cv2\n",
    "cap = cv2.VideoCapture('output.avi')\n",
    "while(True):\n",
    "    ret, frame = cap.read()\n",
    "    if ret == True:        \n",
    "        cv2.imshow('frame',frame)        \n",
    "        if cv2.waitKey(10) == ord('q'):\n",
    "            break\n",
    "    else:\n",
    "        break\n",
    "\n",
    "cap.release()\n",
    "cv2.destroyAllWindows()"
   ]
  },
  {
   "cell_type": "code",
   "execution_count": 13,
   "id": "b75016ae",
   "metadata": {},
   "outputs": [
    {
     "ename": "AttributeError",
     "evalue": "module 'cv2' has no attribute 'destroyAllwindows'",
     "output_type": "error",
     "traceback": [
      "\u001b[1;31m---------------------------------------------------------------------------\u001b[0m",
      "\u001b[1;31mAttributeError\u001b[0m                            Traceback (most recent call last)",
      "\u001b[1;32m~\\AppData\\Local\\Temp\\ipykernel_11496\\2439131046.py\u001b[0m in \u001b[0;36m<module>\u001b[1;34m\u001b[0m\n\u001b[0;32m     18\u001b[0m         \u001b[1;32mbreak\u001b[0m\u001b[1;33m\u001b[0m\u001b[1;33m\u001b[0m\u001b[0m\n\u001b[0;32m     19\u001b[0m \u001b[0mwebcam\u001b[0m\u001b[1;33m.\u001b[0m\u001b[0mrelease\u001b[0m\u001b[1;33m(\u001b[0m\u001b[1;33m)\u001b[0m\u001b[1;33m\u001b[0m\u001b[1;33m\u001b[0m\u001b[0m\n\u001b[1;32m---> 20\u001b[1;33m \u001b[0mcv2\u001b[0m\u001b[1;33m.\u001b[0m\u001b[0mdestroyAllwindows\u001b[0m\u001b[1;33m(\u001b[0m\u001b[1;33m)\u001b[0m\u001b[1;33m\u001b[0m\u001b[1;33m\u001b[0m\u001b[0m\n\u001b[0m",
      "\u001b[1;31mAttributeError\u001b[0m: module 'cv2' has no attribute 'destroyAllwindows'"
     ]
    }
   ],
   "source": [
    "import cv2 \n",
    "import datetime\n",
    "\n",
    "webcam = cv2.VideoCapture(0)\n",
    "while(1):\n",
    "    ret ,frame = webcam.read()\n",
    "    if ret == True:\n",
    "        font = cv2.FONT_HERSHEY_SIMPLEX\n",
    "        text = 'width' +str(webcam.get(3)) +'      ' +'hight' + str(webcam.get(4))\n",
    "        date = str(datetime.datetime.now())\n",
    "        frame = cv2.putText(frame , text,(10 , 20 ) ,font ,1 ,(0,0,255),2 )\n",
    "        frame = cv2.putText(frame , date , (10 , 50 ) ,font ,1 ,(0,0,255),2)\n",
    "        #cv2.imshow('frame' , cv2.cvtColor(frame , cv2.COLOR_RGB2GRAY) )\n",
    "        cv2.imshow('frame' , frame)\n",
    "        if cv2.waitKey(1)&0xFF == ord('q'):\n",
    "            break\n",
    "    else:\n",
    "        break\n",
    "webcam.release()\n",
    "cv2.destroyAllWindows()"
   ]
  },
  {
   "cell_type": "markdown",
   "id": "9e575cc2",
   "metadata": {},
   "source": [
    "<h3> <font color='red'>Canny in real-time: Video</font></h3>"
   ]
  },
  {
   "cell_type": "code",
   "execution_count": 5,
   "id": "0e2695db",
   "metadata": {},
   "outputs": [],
   "source": [
    "import cv2\n",
    "import datetime\n",
    "cap = cv2.VideoCapture(0)\n",
    "while cap.isOpened():\n",
    "    ret, frame = cap.read()\n",
    "    if ret == True:        \n",
    "        font = cv2.FONT_HERSHEY_SIMPLEX\n",
    "        text = 'Widt:'+ str(cap.get(3)) + ' Height: ' + str(cap.get(4)) \n",
    "        datet =str(datetime.datetime.now())\n",
    "        frame = cv2.putText(frame, text, (10,40), font, 1, (0,0,255),2)\n",
    "        frame = cv2.putText(frame, datet, (10,100), font, 1, (0,0,255),2)\n",
    "        frame = cv2.Canny(frame,70, 200,True)\n",
    "        cv2.imshow('frame', frame)\n",
    "        if cv2.waitKey(1) == ord('q') :\n",
    "            break\n",
    "    else:\n",
    "        break\n",
    "    \n",
    "cap.release()\n",
    "cv2.destroyAllWindows()"
   ]
  },
  {
   "cell_type": "code",
   "execution_count": null,
   "id": "e97b1d59",
   "metadata": {},
   "outputs": [],
   "source": []
  },
  {
   "cell_type": "code",
   "execution_count": null,
   "id": "6398cc1d",
   "metadata": {},
   "outputs": [],
   "source": []
  }
 ],
 "metadata": {
  "kernelspec": {
   "display_name": "Python 3 (ipykernel)",
   "language": "python",
   "name": "python3"
  },
  "language_info": {
   "codemirror_mode": {
    "name": "ipython",
    "version": 3
   },
   "file_extension": ".py",
   "mimetype": "text/x-python",
   "name": "python",
   "nbconvert_exporter": "python",
   "pygments_lexer": "ipython3",
   "version": "3.9.13"
  }
 },
 "nbformat": 4,
 "nbformat_minor": 5
}
